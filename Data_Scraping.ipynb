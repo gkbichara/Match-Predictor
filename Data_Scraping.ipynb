{
  "nbformat": 4,
  "nbformat_minor": 0,
  "metadata": {
    "colab": {
      "provenance": [],
      "authorship_tag": "ABX9TyNhdYSnIlqr7B7rJk54u6Oz",
      "include_colab_link": true
    },
    "kernelspec": {
      "name": "python3",
      "display_name": "Python 3"
    },
    "language_info": {
      "name": "python"
    }
  },
  "cells": [
    {
      "cell_type": "markdown",
      "metadata": {
        "id": "view-in-github",
        "colab_type": "text"
      },
      "source": [
        "<a href=\"https://colab.research.google.com/github/gkbichara/Match-Predictor/blob/main/Data_Scraping.ipynb\" target=\"_parent\"><img src=\"https://colab.research.google.com/assets/colab-badge.svg\" alt=\"Open In Colab\"/></a>"
      ]
    },
    {
      "cell_type": "code",
      "execution_count": 1,
      "metadata": {
        "id": "UgxmhL3XfSvP"
      },
      "outputs": [],
      "source": [
        "import requests"
      ]
    },
    {
      "cell_type": "code",
      "source": [
        "standings_url = \"https://fbref.com/en/comps/9/2023-2024/2023-2024-Premier-League-Stats\""
      ],
      "metadata": {
        "id": "i7-xMBzRwB_I"
      },
      "execution_count": 2,
      "outputs": []
    },
    {
      "cell_type": "code",
      "source": [
        "data = requests.get(standings_url)"
      ],
      "metadata": {
        "id": "ud_7sJ3UyA2F"
      },
      "execution_count": 5,
      "outputs": []
    },
    {
      "cell_type": "code",
      "source": [
        " from bs4 import  BeautifulSoup"
      ],
      "metadata": {
        "id": "bvZxrUcEyHB6"
      },
      "execution_count": 6,
      "outputs": []
    },
    {
      "cell_type": "code",
      "source": [
        "soup = BeautifulSoup(data.text)"
      ],
      "metadata": {
        "id": "f8y33OHwzkdk"
      },
      "execution_count": 7,
      "outputs": []
    },
    {
      "cell_type": "code",
      "source": [
        "# narrow down the HTML to that of just the table\n",
        "standings_table = soup.select('table.stats_table')[0]"
      ],
      "metadata": {
        "id": "kyjSUZnQzkf9"
      },
      "execution_count": 8,
      "outputs": []
    },
    {
      "cell_type": "code",
      "source": [
        "# find all the links to the pages of the individual teams\n",
        "# use find_all instead of select to just find the tags, can use either one\n",
        "links = standings_table.find_all('a')"
      ],
      "metadata": {
        "id": "YmS3mgte0XTm"
      },
      "execution_count": 9,
      "outputs": []
    },
    {
      "cell_type": "code",
      "source": [
        "# goes through each of the a elements and finds the href values\n",
        "# finds all the hyperlinks that are in the original table on fbref\n",
        "links = [l.get(\"href\") for l in links]"
      ],
      "metadata": {
        "id": "fImLtoSa0xEe"
      },
      "execution_count": 10,
      "outputs": []
    },
    {
      "cell_type": "code",
      "source": [
        "# from the hyperlinks in the table, this filters them further to only be squad links\n",
        "links = [l for l in links if '/squads/' in l]"
      ],
      "metadata": {
        "id": "xJ01n0On2VJW"
      },
      "execution_count": 13,
      "outputs": []
    },
    {
      "cell_type": "code",
      "source": [
        "# links only had the latter part of the link, adding the domains to make them full URLS\n",
        "# will do this using Python string formatting\n",
        "team_urls = [f\"https://fbref.com{l}\" for l in links]"
      ],
      "metadata": {
        "id": "RL4DE98s2lI2"
      },
      "execution_count": 14,
      "outputs": []
    },
    {
      "cell_type": "code",
      "source": [],
      "metadata": {
        "id": "koSYUKfRFn0q"
      },
      "execution_count": null,
      "outputs": []
    },
    {
      "cell_type": "code",
      "source": [],
      "metadata": {
        "id": "JcVooMcHFn3b"
      },
      "execution_count": null,
      "outputs": []
    },
    {
      "cell_type": "code",
      "source": [],
      "metadata": {
        "id": "y9RxDrgHFn53"
      },
      "execution_count": null,
      "outputs": []
    },
    {
      "cell_type": "code",
      "source": [],
      "metadata": {
        "id": "HU-vAB-LFn8S"
      },
      "execution_count": null,
      "outputs": []
    }
  ]
}